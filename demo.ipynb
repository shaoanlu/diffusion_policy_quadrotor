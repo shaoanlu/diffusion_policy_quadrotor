{
 "cells": [
  {
   "cell_type": "markdown",
   "id": "ee7a0434-3333-4502-9563-adcc12d4a413",
   "metadata": {},
   "source": [
    "## Description\n",
    "\n",
    "This notebook demonstrate using a diffusion policy controller to drive a quadrotor moving from (0, 0) to (5, 5) with random circle obstacles presented."
   ]
  },
  {
   "cell_type": "code",
   "execution_count": 1,
   "id": "fffc0bb0-584b-4602-885f-a1cfa06d21b6",
   "metadata": {},
   "outputs": [],
   "source": [
    "%load_ext autoreload\n",
    "%autoreload 2"
   ]
  },
  {
   "cell_type": "code",
   "execution_count": 2,
   "id": "670f6c7f-93c9-47dc-b2e4-81ea8949b3f9",
   "metadata": {},
   "outputs": [],
   "source": [
    "import numpy as np\n",
    "import os\n",
    "import yaml\n",
    "import collections\n",
    "from tqdm.auto import tqdm\n",
    "import gdown"
   ]
  },
  {
   "cell_type": "code",
   "execution_count": 3,
   "id": "fa8f1de5-924a-4889-aacc-bac7601012c5",
   "metadata": {},
   "outputs": [],
   "source": [
    "from core.networks.conditional_unet1d import ConditionalUnet1D\n",
    "from utils.normalizers import LinearNormalizer\n",
    "from diffusers.schedulers.scheduling_ddpm import DDPMScheduler\n",
    "from core.controllers.quadrotor_diffusion_policy import QuadrotorDiffusionPolicy, build_networks_from_config, build_noise_scheduler_from_config\n",
    "from core.env.planar_quadrotor import PlanarQuadrotorEnv\n",
    "from utils.visualization import visualize_quadrotor_simulation_result"
   ]
  },
  {
   "cell_type": "markdown",
   "id": "06cf3d67-3f96-457e-a634-77b6e5f2e31e",
   "metadata": {},
   "source": [
    "## Load the config file"
   ]
  },
  {
   "cell_type": "code",
   "execution_count": 4,
   "id": "0c8c8f90-8ac2-4f87-943d-e41b7ff9ff6a",
   "metadata": {
    "scrolled": true
   },
   "outputs": [],
   "source": [
    "with open(\"config/config.yaml\", \"r\") as file:\n",
    "    config = yaml.safe_load(file)"
   ]
  },
  {
   "cell_type": "markdown",
   "id": "dd56c89a-520f-46b5-b9d6-ebef0160b184",
   "metadata": {},
   "source": [
    "## Instantiate the controller"
   ]
  },
  {
   "cell_type": "code",
   "execution_count": 5,
   "id": "cb0707a7-3d66-46da-b722-2b2f42d8e099",
   "metadata": {},
   "outputs": [],
   "source": [
    "controller = QuadrotorDiffusionPolicy(\n",
    "    model=build_networks_from_config(config),\n",
    "    noise_scheduler=build_noise_scheduler_from_config(config),\n",
    "    normalizer=LinearNormalizer(),\n",
    "    config=config,\n",
    "    device=\"cuda\",\n",
    ")"
   ]
  },
  {
   "cell_type": "markdown",
   "id": "cac28d88-e304-46b3-bc28-5fc54cd3705d",
   "metadata": {},
   "source": [
    "## Download and load pretrained weights"
   ]
  },
  {
   "cell_type": "code",
   "execution_count": 6,
   "id": "0123fc93-7219-4ade-b703-15da35726807",
   "metadata": {},
   "outputs": [],
   "source": [
    "# download pretrained weights from Google drive\n",
    "ckpts_path = \"ckpts/ema_noise_pred_net2_ph96_oh2_ah10_v6.ckpt\"\n",
    "if not os.path.isfile(ckpts_path):\n",
    "    gdown.download(id=\"1TNxMsMznGqgr6bTfRj_-r2jicmXma8Xv\", output=ckpts_path, quiet=False)\n",
    "\n",
    "# load weights\n",
    "controller.load_weights(ckpts_path)"
   ]
  },
  {
   "cell_type": "markdown",
   "id": "a0fda0f4-f5cb-4fa9-86da-abf991edfb4b",
   "metadata": {},
   "source": [
    "## Instantiate the simulator"
   ]
  },
  {
   "cell_type": "code",
   "execution_count": 7,
   "id": "6b0ae93e-8fe6-40af-92e6-12643aa21f6d",
   "metadata": {},
   "outputs": [],
   "source": [
    "sim = PlanarQuadrotorEnv(config)"
   ]
  },
  {
   "cell_type": "code",
   "execution_count": null,
   "id": "a679998d-7a2e-48dc-b0a4-30c24314e307",
   "metadata": {},
   "outputs": [],
   "source": []
  },
  {
   "cell_type": "markdown",
   "id": "1f1c50bc-e529-432f-92a9-9bb3c6e9fdf7",
   "metadata": {},
   "source": [
    "## Run simulation"
   ]
  },
  {
   "cell_type": "code",
   "execution_count": 8,
   "id": "eecaed67-9814-4a62-aa7f-2caf5d5b43aa",
   "metadata": {},
   "outputs": [],
   "source": [
    "def generate_random_obstacles():\n",
    "    num_obstacles = np.random.randint(1, 8)\n",
    "    obs_center, obs_radius = np.empty((num_obstacles, 2)), np.ones((num_obstacles,))\n",
    "    for obs_idx in range(num_obstacles):  # set XY position of each obstacle\n",
    "        obs_center[obs_idx, ...] = np.random.randint(1, 8, size=(2,))\n",
    "        obs_radius[obs_idx] = np.random.uniform(0.2, 1.5)\n",
    "    return obs_center, obs_radius\n",
    "\n",
    "def encode_obstacle_info(obs_center: np.ndarray, obs_radius: np.ndarray):\n",
    "    obs_encode = np.zeros((7, 7))\n",
    "    for center, radius in zip(obs_center, obs_radius):\n",
    "        obs_encode[tuple((center-1).astype(np.int32))] = radius\n",
    "    obs_encode = obs_encode.flatten()\n",
    "    return obs_encode"
   ]
  },
  {
   "cell_type": "code",
   "execution_count": 9,
   "id": "3250c190-d380-423c-8455-21a6c1b2c093",
   "metadata": {},
   "outputs": [
    {
     "data": {
      "application/vnd.jupyter.widget-view+json": {
       "model_id": "cdb745278a1c452c831d4f3c40160613",
       "version_major": 2,
       "version_minor": 0
      },
      "text/plain": [
       "Eval:   0%|          | 0/400 [00:00<?, ?it/s]"
      ]
     },
     "metadata": {},
     "output_type": "display_data"
    }
   ],
   "source": [
    "np.random.seed(123)\n",
    "\n",
    "# Env parameters\n",
    "max_steps = 400\n",
    "dt = 0.01\n",
    "ratio_sim_ts = 10  # ratio of sampling time between the simulator and the controller\n",
    "\n",
    "# get first observation\n",
    "state = np.array([0.0, 0.0, 0.0, 0.0, 0.0, 0.0])  # [y, y_dot, z, z_dot, phi, phi_dot]\n",
    "states = [state]  # `states` is a list containing the states over time\n",
    "controls = [np.array([0, 0])]\n",
    "obs_center, obs_radius = generate_random_obstacles()\n",
    "obs_encode = encode_obstacle_info(obs_center, obs_radius)\n",
    "obs = {\n",
    "    \"state\": collections.deque([state] * controller.obs_horizon, maxlen=controller.obs_horizon), \n",
    "    \"obs_encode\": [obs_encode],\n",
    "}\n",
    "\n",
    "# termimnation params\n",
    "done = False\n",
    "step_idx = 0\n",
    "\n",
    "with tqdm(total=max_steps, desc=\"Eval\") as pbar:\n",
    "    while not done:\n",
    "        # controller inference\n",
    "        action = controller.predict_action(obs)\n",
    "        \n",
    "        # execute action_horizon steps without replanning\n",
    "        for i in range(action.shape[0]):\n",
    "            # stepping env\n",
    "            command = controller.calculate_force_command(state, action[i])\n",
    "            for _ in range(ratio_sim_ts):\n",
    "                state = sim.step(state, command, dt=dt/ratio_sim_ts)\n",
    "            # save observations and controls\n",
    "            obs[\"state\"].append(state.copy())\n",
    "            states.append(state.copy())\n",
    "            controls.append(action[i].copy())\n",
    "\n",
    "            # update progress bar\n",
    "            step_idx += 1\n",
    "            pbar.update(1)\n",
    "            if step_idx > max_steps:\n",
    "                done = True\n",
    "            if done:\n",
    "                break"
   ]
  },
  {
   "cell_type": "code",
   "execution_count": null,
   "id": "b006ad91-e853-4a03-80c5-7ecb142bc475",
   "metadata": {},
   "outputs": [],
   "source": []
  },
  {
   "cell_type": "markdown",
   "id": "602bdd60-2b90-48db-a29b-7f8645501142",
   "metadata": {},
   "source": [
    "## Visualize result"
   ]
  },
  {
   "cell_type": "code",
   "execution_count": 10,
   "id": "b92bcec2-d95d-4361-9b92-991346d83950",
   "metadata": {},
   "outputs": [
    {
     "data": {
      "image/png": "[encoded data removed]",
      "text/plain": [
       "<Figure size 640x480 with 1 Axes>"
      ]
     },
     "metadata": {},
     "output_type": "display_data"
    }
   ],
   "source": [
    "states = np.array(states)\n",
    "visualize_quadrotor_simulation_result(sim, states, obs_center=obs_center, obs_radius=obs_radius)"
   ]
  },
  {
   "cell_type": "code",
   "execution_count": null,
   "id": "33740290-22ae-45bd-822f-0bea782691bd",
   "metadata": {},
   "outputs": [],
   "source": []
  },
  {
   "cell_type": "code",
   "execution_count": null,
   "id": "f15cae17-f337-4ba0-a4ea-5a10a8bc0390",
   "metadata": {},
   "outputs": [],
   "source": []
  },
  {
   "cell_type": "code",
   "execution_count": null,
   "id": "7f889988-1fef-4c11-b113-457247db185c",
   "metadata": {},
   "outputs": [],
   "source": []
  },
  {
   "cell_type": "code",
   "execution_count": null,
   "id": "6c503b86-5211-4403-a830-b8a100e73b97",
   "metadata": {},
   "outputs": [],
   "source": []
  },
  {
   "cell_type": "code",
   "execution_count": null,
   "id": "f0772564-5e68-4884-a266-f5467db4a433",
   "metadata": {},
   "outputs": [],
   "source": []
  },
  {
   "cell_type": "code",
   "execution_count": null,
   "id": "3c1ad555-40ce-4917-b0f7-e26dce4d485d",
   "metadata": {},
   "outputs": [],
   "source": []
  }
 ],
 "metadata": {
  "kernelspec": {
   "display_name": "Python 3 (ipykernel)",
   "language": "python",
   "name": "python3"
  },
  "language_info": {
   "codemirror_mode": {
    "name": "ipython",
    "version": 3
   },
   "file_extension": ".py",
   "mimetype": "text/x-python",
   "name": "python",
   "nbconvert_exporter": "python",
   "pygments_lexer": "ipython3",
   "version": "3.10.14"
  },
  "widgets": {
   "application/vnd.jupyter.widget-state+json": {
    "state": {
     "2960bee7a5f548b19be9fbcc89c4a628": {
      "model_module": "@jupyter-widgets/controls",
      "model_module_version": "2.0.0",
      "model_name": "HTMLStyleModel",
      "state": {
       "description_width": "",
       "font_size": null,
       "text_color": null
      }
     },
     "2ecca681f31946e5bb2fe2303f588209": {
      "model_module": "@jupyter-widgets/controls",
      "model_module_version": "2.0.0",
      "model_name": "HTMLModel",
      "state": {
       "layout": "IPY_MODEL_41dbf30ad23d4d0dab6677e8125e8b3b",
       "style": "IPY_MODEL_2960bee7a5f548b19be9fbcc89c4a628",
       "value": " 401/? [00:26&lt;00:00, 16.59it/s]"
      }
     },
     "4004637a09b14c49a274d19de0f0b5cb": {
      "model_module": "@jupyter-widgets/controls",
      "model_module_version": "2.0.0",
      "model_name": "ProgressStyleModel",
      "state": {
       "description_width": ""
      }
     },
     "41dbf30ad23d4d0dab6677e8125e8b3b": {
      "model_module": "@jupyter-widgets/base",
      "model_module_version": "2.0.0",
      "model_name": "LayoutModel",
      "state": {}
     },
     "478f23e408664e14a08c116d20ccbac0": {
      "model_module": "@jupyter-widgets/controls",
      "model_module_version": "2.0.0",
      "model_name": "HTMLModel",
      "state": {
       "layout": "IPY_MODEL_ae8778c5f3cf43f7b7e09b0042670ee8",
       "style": "IPY_MODEL_a3c8d923c3c44e5ea2851a140d09f414",
       "value": "Eval: "
      }
     },
     "98faf73353c244b1be06bec8f68be8ae": {
      "model_module": "@jupyter-widgets/base",
      "model_module_version": "2.0.0",
      "model_name": "LayoutModel",
      "state": {}
     },
     "a3c8d923c3c44e5ea2851a140d09f414": {
      "model_module": "@jupyter-widgets/controls",
      "model_module_version": "2.0.0",
      "model_name": "HTMLStyleModel",
      "state": {
       "description_width": "",
       "font_size": null,
       "text_color": null
      }
     },
     "ae8778c5f3cf43f7b7e09b0042670ee8": {
      "model_module": "@jupyter-widgets/base",
      "model_module_version": "2.0.0",
      "model_name": "LayoutModel",
      "state": {}
     },
     "b3c5caacfe2d4f3dab9fdb997614e8d1": {
      "model_module": "@jupyter-widgets/base",
      "model_module_version": "2.0.0",
      "model_name": "LayoutModel",
      "state": {}
     },
     "cdb745278a1c452c831d4f3c40160613": {
      "model_module": "@jupyter-widgets/controls",
      "model_module_version": "2.0.0",
      "model_name": "HBoxModel",
      "state": {
       "children": [
        "IPY_MODEL_478f23e408664e14a08c116d20ccbac0",
        "IPY_MODEL_efa757a6eb1d41efac25fe968f7ce70f",
        "IPY_MODEL_2ecca681f31946e5bb2fe2303f588209"
       ],
       "layout": "IPY_MODEL_b3c5caacfe2d4f3dab9fdb997614e8d1"
      }
     },
     "efa757a6eb1d41efac25fe968f7ce70f": {
      "model_module": "@jupyter-widgets/controls",
      "model_module_version": "2.0.0",
      "model_name": "FloatProgressModel",
      "state": {
       "bar_style": "success",
       "layout": "IPY_MODEL_98faf73353c244b1be06bec8f68be8ae",
       "max": 400,
       "style": "IPY_MODEL_4004637a09b14c49a274d19de0f0b5cb",
       "value": 400
      }
     }
    },
    "version_major": 2,
    "version_minor": 0
   }
  }
 },
 "nbformat": 4,
 "nbformat_minor": 5
}
